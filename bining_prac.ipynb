{
 "cells": [
  {
   "cell_type": "code",
   "execution_count": 2,
   "id": "567296d7",
   "metadata": {},
   "outputs": [],
   "source": [
    "import numpy as np\n",
    "import pandas as pd"
   ]
  },
  {
   "cell_type": "code",
   "execution_count": 28,
   "id": "d994ad60",
   "metadata": {},
   "outputs": [],
   "source": [
    "from sklearn.model_selection import train_test_split\n",
    "from sklearn.model_selection import cross_val_score\n",
    "\n",
    "from sklearn.preprocessing import KBinsDiscretizer\n",
    "from sklearn.preprocessing import Binarizer\n",
    "\n",
    "from sklearn.metrics import accuracy_score\n",
    "\n",
    "from sklearn.tree import DecisionTreeClassifier\n",
    "\n",
    "from sklearn.compose import ColumnTransformer\n",
    "\n",
    "import matplotlib.pyplot as plt "
   ]
  },
  {
   "cell_type": "code",
   "execution_count": 3,
   "id": "ec808462",
   "metadata": {},
   "outputs": [],
   "source": [
    "df = pd.read_csv('train.csv', usecols=['Age', 'Fare', 'Survived'])"
   ]
  },
  {
   "cell_type": "code",
   "execution_count": 4,
   "id": "436079fa",
   "metadata": {},
   "outputs": [],
   "source": [
    "df = df.dropna()"
   ]
  },
  {
   "cell_type": "code",
   "execution_count": 5,
   "id": "3debd656",
   "metadata": {},
   "outputs": [
    {
     "data": {
      "text/html": [
       "<div>\n",
       "<style scoped>\n",
       "    .dataframe tbody tr th:only-of-type {\n",
       "        vertical-align: middle;\n",
       "    }\n",
       "\n",
       "    .dataframe tbody tr th {\n",
       "        vertical-align: top;\n",
       "    }\n",
       "\n",
       "    .dataframe thead th {\n",
       "        text-align: right;\n",
       "    }\n",
       "</style>\n",
       "<table border=\"1\" class=\"dataframe\">\n",
       "  <thead>\n",
       "    <tr style=\"text-align: right;\">\n",
       "      <th></th>\n",
       "      <th>Survived</th>\n",
       "      <th>Age</th>\n",
       "      <th>Fare</th>\n",
       "    </tr>\n",
       "  </thead>\n",
       "  <tbody>\n",
       "    <tr>\n",
       "      <th>0</th>\n",
       "      <td>0</td>\n",
       "      <td>22.0</td>\n",
       "      <td>7.2500</td>\n",
       "    </tr>\n",
       "    <tr>\n",
       "      <th>1</th>\n",
       "      <td>1</td>\n",
       "      <td>38.0</td>\n",
       "      <td>71.2833</td>\n",
       "    </tr>\n",
       "    <tr>\n",
       "      <th>2</th>\n",
       "      <td>1</td>\n",
       "      <td>26.0</td>\n",
       "      <td>7.9250</td>\n",
       "    </tr>\n",
       "    <tr>\n",
       "      <th>3</th>\n",
       "      <td>1</td>\n",
       "      <td>35.0</td>\n",
       "      <td>53.1000</td>\n",
       "    </tr>\n",
       "    <tr>\n",
       "      <th>4</th>\n",
       "      <td>0</td>\n",
       "      <td>35.0</td>\n",
       "      <td>8.0500</td>\n",
       "    </tr>\n",
       "  </tbody>\n",
       "</table>\n",
       "</div>"
      ],
      "text/plain": [
       "   Survived   Age     Fare\n",
       "0         0  22.0   7.2500\n",
       "1         1  38.0  71.2833\n",
       "2         1  26.0   7.9250\n",
       "3         1  35.0  53.1000\n",
       "4         0  35.0   8.0500"
      ]
     },
     "execution_count": 5,
     "metadata": {},
     "output_type": "execute_result"
    }
   ],
   "source": [
    "df.head()"
   ]
  },
  {
   "cell_type": "code",
   "execution_count": 6,
   "id": "c1341d20",
   "metadata": {},
   "outputs": [
    {
     "data": {
      "text/plain": [
       "(571, 2)"
      ]
     },
     "execution_count": 6,
     "metadata": {},
     "output_type": "execute_result"
    }
   ],
   "source": [
    "X = df.drop(['Survived'], axis = 1)\n",
    "y = df['Survived']\n",
    "X_train, X_test, y_train, y_test = train_test_split(X, y, test_size = 0.2, random_state=42)\n",
    "X_train.shape"
   ]
  },
  {
   "cell_type": "code",
   "execution_count": 7,
   "id": "286e3f30",
   "metadata": {},
   "outputs": [
    {
     "data": {
      "text/plain": [
       "(143,)"
      ]
     },
     "execution_count": 7,
     "metadata": {},
     "output_type": "execute_result"
    }
   ],
   "source": [
    "clf = DecisionTreeClassifier()\n",
    "clf.fit(X_train, y_train)\n",
    "y_pred = clf.predict(X_test)\n",
    "y_pred.shape"
   ]
  },
  {
   "cell_type": "code",
   "execution_count": 8,
   "id": "b9f4715b",
   "metadata": {},
   "outputs": [
    {
     "data": {
      "text/plain": [
       "0.6363636363636364"
      ]
     },
     "execution_count": 8,
     "metadata": {},
     "output_type": "execute_result"
    }
   ],
   "source": [
    "accuracy_score(y_test, y_pred)"
   ]
  },
  {
   "cell_type": "code",
   "execution_count": 9,
   "id": "0a7e9ed7",
   "metadata": {},
   "outputs": [
    {
     "data": {
      "text/plain": [
       "0.6218556091795528"
      ]
     },
     "execution_count": 9,
     "metadata": {},
     "output_type": "execute_result"
    }
   ],
   "source": [
    "cross_val_score(clf, X, y, scoring = 'accuracy').mean()"
   ]
  },
  {
   "cell_type": "code",
   "execution_count": 10,
   "id": "a3b0b6c1",
   "metadata": {},
   "outputs": [],
   "source": [
    "kbins_age = KBinsDiscretizer(n_bins=15, encode='ordinal', strategy = 'quantile')\n",
    "kbins_fare = KBinsDiscretizer(n_bins = 15, encode = 'ordinal', strategy = 'quantile')"
   ]
  },
  {
   "cell_type": "code",
   "execution_count": 11,
   "id": "dd4b95fe",
   "metadata": {},
   "outputs": [],
   "source": [
    "trf = ColumnTransformer([\n",
    "    ('first', kbins_age, [0]),\n",
    "    ('second', kbins_fare, [1])\n",
    "])"
   ]
  },
  {
   "cell_type": "code",
   "execution_count": 12,
   "id": "20d5c2ae",
   "metadata": {},
   "outputs": [],
   "source": [
    "X_train_trf = trf.fit_transform(X_train)\n",
    "X_test_trf = trf.transform(X_test)"
   ]
  },
  {
   "cell_type": "code",
   "execution_count": 13,
   "id": "af4aa911",
   "metadata": {},
   "outputs": [
    {
     "data": {
      "text/plain": [
       "array([array([  0.    ,   7.25  ,   7.775 ,   7.8958,   8.1583,  10.5   ,\n",
       "               13.    ,  14.4542,  18.75  ,  26.    ,  26.55  ,  31.275 ,\n",
       "               51.4792,  76.2917, 108.9   , 512.3292])                   ],\n",
       "      dtype=object)"
      ]
     },
     "execution_count": 13,
     "metadata": {},
     "output_type": "execute_result"
    }
   ],
   "source": [
    "trf.named_transformers_.second.bin_edges_"
   ]
  },
  {
   "cell_type": "code",
   "execution_count": 18,
   "id": "e18670f2",
   "metadata": {},
   "outputs": [],
   "source": [
    "new_df = pd.DataFrame({'Original age': X_train['Age'], 'Discretized age': X_train_trf[:,0], 'original fare': X_train['Fare'], 'discretized fare': X_train_trf[:,1]})"
   ]
  },
  {
   "cell_type": "code",
   "execution_count": 20,
   "id": "64851d8d",
   "metadata": {},
   "outputs": [
    {
     "data": {
      "text/html": [
       "<div>\n",
       "<style scoped>\n",
       "    .dataframe tbody tr th:only-of-type {\n",
       "        vertical-align: middle;\n",
       "    }\n",
       "\n",
       "    .dataframe tbody tr th {\n",
       "        vertical-align: top;\n",
       "    }\n",
       "\n",
       "    .dataframe thead th {\n",
       "        text-align: right;\n",
       "    }\n",
       "</style>\n",
       "<table border=\"1\" class=\"dataframe\">\n",
       "  <thead>\n",
       "    <tr style=\"text-align: right;\">\n",
       "      <th></th>\n",
       "      <th>Original age</th>\n",
       "      <th>Discretized age</th>\n",
       "      <th>original fare</th>\n",
       "      <th>discretized fare</th>\n",
       "    </tr>\n",
       "  </thead>\n",
       "  <tbody>\n",
       "    <tr>\n",
       "      <th>328</th>\n",
       "      <td>31.0</td>\n",
       "      <td>8.0</td>\n",
       "      <td>20.5250</td>\n",
       "      <td>8.0</td>\n",
       "    </tr>\n",
       "    <tr>\n",
       "      <th>73</th>\n",
       "      <td>26.0</td>\n",
       "      <td>6.0</td>\n",
       "      <td>14.4542</td>\n",
       "      <td>7.0</td>\n",
       "    </tr>\n",
       "    <tr>\n",
       "      <th>253</th>\n",
       "      <td>30.0</td>\n",
       "      <td>8.0</td>\n",
       "      <td>16.1000</td>\n",
       "      <td>7.0</td>\n",
       "    </tr>\n",
       "    <tr>\n",
       "      <th>719</th>\n",
       "      <td>33.0</td>\n",
       "      <td>9.0</td>\n",
       "      <td>7.7750</td>\n",
       "      <td>2.0</td>\n",
       "    </tr>\n",
       "    <tr>\n",
       "      <th>666</th>\n",
       "      <td>25.0</td>\n",
       "      <td>6.0</td>\n",
       "      <td>13.0000</td>\n",
       "      <td>6.0</td>\n",
       "    </tr>\n",
       "    <tr>\n",
       "      <th>...</th>\n",
       "      <td>...</td>\n",
       "      <td>...</td>\n",
       "      <td>...</td>\n",
       "      <td>...</td>\n",
       "    </tr>\n",
       "    <tr>\n",
       "      <th>92</th>\n",
       "      <td>46.0</td>\n",
       "      <td>12.0</td>\n",
       "      <td>61.1750</td>\n",
       "      <td>12.0</td>\n",
       "    </tr>\n",
       "    <tr>\n",
       "      <th>134</th>\n",
       "      <td>25.0</td>\n",
       "      <td>6.0</td>\n",
       "      <td>13.0000</td>\n",
       "      <td>6.0</td>\n",
       "    </tr>\n",
       "    <tr>\n",
       "      <th>337</th>\n",
       "      <td>41.0</td>\n",
       "      <td>11.0</td>\n",
       "      <td>134.5000</td>\n",
       "      <td>14.0</td>\n",
       "    </tr>\n",
       "    <tr>\n",
       "      <th>548</th>\n",
       "      <td>33.0</td>\n",
       "      <td>9.0</td>\n",
       "      <td>20.5250</td>\n",
       "      <td>8.0</td>\n",
       "    </tr>\n",
       "    <tr>\n",
       "      <th>130</th>\n",
       "      <td>33.0</td>\n",
       "      <td>9.0</td>\n",
       "      <td>7.8958</td>\n",
       "      <td>3.0</td>\n",
       "    </tr>\n",
       "  </tbody>\n",
       "</table>\n",
       "<p>571 rows × 4 columns</p>\n",
       "</div>"
      ],
      "text/plain": [
       "     Original age  Discretized age  original fare  discretized fare\n",
       "328          31.0              8.0        20.5250               8.0\n",
       "73           26.0              6.0        14.4542               7.0\n",
       "253          30.0              8.0        16.1000               7.0\n",
       "719          33.0              9.0         7.7750               2.0\n",
       "666          25.0              6.0        13.0000               6.0\n",
       "..            ...              ...            ...               ...\n",
       "92           46.0             12.0        61.1750              12.0\n",
       "134          25.0              6.0        13.0000               6.0\n",
       "337          41.0             11.0       134.5000              14.0\n",
       "548          33.0              9.0        20.5250               8.0\n",
       "130          33.0              9.0         7.8958               3.0\n",
       "\n",
       "[571 rows x 4 columns]"
      ]
     },
     "execution_count": 20,
     "metadata": {},
     "output_type": "execute_result"
    }
   ],
   "source": [
    "new_df"
   ]
  },
  {
   "cell_type": "code",
   "execution_count": 22,
   "id": "98eae92b",
   "metadata": {},
   "outputs": [],
   "source": [
    "new_df['age labels'] = pd.cut(x = X_train['Age'],  bins =  trf.named_transformers_.second.bin_edges_[0])"
   ]
  },
  {
   "cell_type": "code",
   "execution_count": 27,
   "id": "1a484928",
   "metadata": {},
   "outputs": [
    {
     "data": {
      "text/html": [
       "<div>\n",
       "<style scoped>\n",
       "    .dataframe tbody tr th:only-of-type {\n",
       "        vertical-align: middle;\n",
       "    }\n",
       "\n",
       "    .dataframe tbody tr th {\n",
       "        vertical-align: top;\n",
       "    }\n",
       "\n",
       "    .dataframe thead th {\n",
       "        text-align: right;\n",
       "    }\n",
       "</style>\n",
       "<table border=\"1\" class=\"dataframe\">\n",
       "  <thead>\n",
       "    <tr style=\"text-align: right;\">\n",
       "      <th></th>\n",
       "      <th>Original age</th>\n",
       "      <th>Discretized age</th>\n",
       "      <th>original fare</th>\n",
       "      <th>discretized fare</th>\n",
       "      <th>age labels</th>\n",
       "    </tr>\n",
       "  </thead>\n",
       "  <tbody>\n",
       "    <tr>\n",
       "      <th>328</th>\n",
       "      <td>31.0</td>\n",
       "      <td>8.0</td>\n",
       "      <td>20.5250</td>\n",
       "      <td>8.0</td>\n",
       "      <td>(26.55, 31.275]</td>\n",
       "    </tr>\n",
       "    <tr>\n",
       "      <th>73</th>\n",
       "      <td>26.0</td>\n",
       "      <td>6.0</td>\n",
       "      <td>14.4542</td>\n",
       "      <td>7.0</td>\n",
       "      <td>(18.75, 26.0]</td>\n",
       "    </tr>\n",
       "    <tr>\n",
       "      <th>253</th>\n",
       "      <td>30.0</td>\n",
       "      <td>8.0</td>\n",
       "      <td>16.1000</td>\n",
       "      <td>7.0</td>\n",
       "      <td>(26.55, 31.275]</td>\n",
       "    </tr>\n",
       "    <tr>\n",
       "      <th>719</th>\n",
       "      <td>33.0</td>\n",
       "      <td>9.0</td>\n",
       "      <td>7.7750</td>\n",
       "      <td>2.0</td>\n",
       "      <td>(31.275, 51.479]</td>\n",
       "    </tr>\n",
       "    <tr>\n",
       "      <th>666</th>\n",
       "      <td>25.0</td>\n",
       "      <td>6.0</td>\n",
       "      <td>13.0000</td>\n",
       "      <td>6.0</td>\n",
       "      <td>(18.75, 26.0]</td>\n",
       "    </tr>\n",
       "    <tr>\n",
       "      <th>...</th>\n",
       "      <td>...</td>\n",
       "      <td>...</td>\n",
       "      <td>...</td>\n",
       "      <td>...</td>\n",
       "      <td>...</td>\n",
       "    </tr>\n",
       "    <tr>\n",
       "      <th>92</th>\n",
       "      <td>46.0</td>\n",
       "      <td>12.0</td>\n",
       "      <td>61.1750</td>\n",
       "      <td>12.0</td>\n",
       "      <td>(31.275, 51.479]</td>\n",
       "    </tr>\n",
       "    <tr>\n",
       "      <th>134</th>\n",
       "      <td>25.0</td>\n",
       "      <td>6.0</td>\n",
       "      <td>13.0000</td>\n",
       "      <td>6.0</td>\n",
       "      <td>(18.75, 26.0]</td>\n",
       "    </tr>\n",
       "    <tr>\n",
       "      <th>337</th>\n",
       "      <td>41.0</td>\n",
       "      <td>11.0</td>\n",
       "      <td>134.5000</td>\n",
       "      <td>14.0</td>\n",
       "      <td>(31.275, 51.479]</td>\n",
       "    </tr>\n",
       "    <tr>\n",
       "      <th>548</th>\n",
       "      <td>33.0</td>\n",
       "      <td>9.0</td>\n",
       "      <td>20.5250</td>\n",
       "      <td>8.0</td>\n",
       "      <td>(31.275, 51.479]</td>\n",
       "    </tr>\n",
       "    <tr>\n",
       "      <th>130</th>\n",
       "      <td>33.0</td>\n",
       "      <td>9.0</td>\n",
       "      <td>7.8958</td>\n",
       "      <td>3.0</td>\n",
       "      <td>(31.275, 51.479]</td>\n",
       "    </tr>\n",
       "  </tbody>\n",
       "</table>\n",
       "<p>571 rows × 5 columns</p>\n",
       "</div>"
      ],
      "text/plain": [
       "     Original age  Discretized age  original fare  discretized fare  \\\n",
       "328          31.0              8.0        20.5250               8.0   \n",
       "73           26.0              6.0        14.4542               7.0   \n",
       "253          30.0              8.0        16.1000               7.0   \n",
       "719          33.0              9.0         7.7750               2.0   \n",
       "666          25.0              6.0        13.0000               6.0   \n",
       "..            ...              ...            ...               ...   \n",
       "92           46.0             12.0        61.1750              12.0   \n",
       "134          25.0              6.0        13.0000               6.0   \n",
       "337          41.0             11.0       134.5000              14.0   \n",
       "548          33.0              9.0        20.5250               8.0   \n",
       "130          33.0              9.0         7.8958               3.0   \n",
       "\n",
       "           age labels  \n",
       "328   (26.55, 31.275]  \n",
       "73      (18.75, 26.0]  \n",
       "253   (26.55, 31.275]  \n",
       "719  (31.275, 51.479]  \n",
       "666     (18.75, 26.0]  \n",
       "..                ...  \n",
       "92   (31.275, 51.479]  \n",
       "134     (18.75, 26.0]  \n",
       "337  (31.275, 51.479]  \n",
       "548  (31.275, 51.479]  \n",
       "130  (31.275, 51.479]  \n",
       "\n",
       "[571 rows x 5 columns]"
      ]
     },
     "execution_count": 27,
     "metadata": {},
     "output_type": "execute_result"
    }
   ],
   "source": [
    "new_df"
   ]
  },
  {
   "cell_type": "code",
   "execution_count": 28,
   "id": "1eadf38e",
   "metadata": {},
   "outputs": [],
   "source": [
    "new_df['age labels'] = pd.cut(x = X_train['Age'],  bins =  trf.named_transformers_.second.bin_edges_[0].tolist())"
   ]
  },
  {
   "cell_type": "code",
   "execution_count": 29,
   "id": "3b16cffe",
   "metadata": {},
   "outputs": [
    {
     "data": {
      "text/html": [
       "<div>\n",
       "<style scoped>\n",
       "    .dataframe tbody tr th:only-of-type {\n",
       "        vertical-align: middle;\n",
       "    }\n",
       "\n",
       "    .dataframe tbody tr th {\n",
       "        vertical-align: top;\n",
       "    }\n",
       "\n",
       "    .dataframe thead th {\n",
       "        text-align: right;\n",
       "    }\n",
       "</style>\n",
       "<table border=\"1\" class=\"dataframe\">\n",
       "  <thead>\n",
       "    <tr style=\"text-align: right;\">\n",
       "      <th></th>\n",
       "      <th>Original age</th>\n",
       "      <th>Discretized age</th>\n",
       "      <th>original fare</th>\n",
       "      <th>discretized fare</th>\n",
       "      <th>age labels</th>\n",
       "    </tr>\n",
       "  </thead>\n",
       "  <tbody>\n",
       "    <tr>\n",
       "      <th>328</th>\n",
       "      <td>31.0</td>\n",
       "      <td>8.0</td>\n",
       "      <td>20.5250</td>\n",
       "      <td>8.0</td>\n",
       "      <td>(26.55, 31.275]</td>\n",
       "    </tr>\n",
       "    <tr>\n",
       "      <th>73</th>\n",
       "      <td>26.0</td>\n",
       "      <td>6.0</td>\n",
       "      <td>14.4542</td>\n",
       "      <td>7.0</td>\n",
       "      <td>(18.75, 26.0]</td>\n",
       "    </tr>\n",
       "    <tr>\n",
       "      <th>253</th>\n",
       "      <td>30.0</td>\n",
       "      <td>8.0</td>\n",
       "      <td>16.1000</td>\n",
       "      <td>7.0</td>\n",
       "      <td>(26.55, 31.275]</td>\n",
       "    </tr>\n",
       "    <tr>\n",
       "      <th>719</th>\n",
       "      <td>33.0</td>\n",
       "      <td>9.0</td>\n",
       "      <td>7.7750</td>\n",
       "      <td>2.0</td>\n",
       "      <td>(31.275, 51.479]</td>\n",
       "    </tr>\n",
       "    <tr>\n",
       "      <th>666</th>\n",
       "      <td>25.0</td>\n",
       "      <td>6.0</td>\n",
       "      <td>13.0000</td>\n",
       "      <td>6.0</td>\n",
       "      <td>(18.75, 26.0]</td>\n",
       "    </tr>\n",
       "    <tr>\n",
       "      <th>...</th>\n",
       "      <td>...</td>\n",
       "      <td>...</td>\n",
       "      <td>...</td>\n",
       "      <td>...</td>\n",
       "      <td>...</td>\n",
       "    </tr>\n",
       "    <tr>\n",
       "      <th>92</th>\n",
       "      <td>46.0</td>\n",
       "      <td>12.0</td>\n",
       "      <td>61.1750</td>\n",
       "      <td>12.0</td>\n",
       "      <td>(31.275, 51.479]</td>\n",
       "    </tr>\n",
       "    <tr>\n",
       "      <th>134</th>\n",
       "      <td>25.0</td>\n",
       "      <td>6.0</td>\n",
       "      <td>13.0000</td>\n",
       "      <td>6.0</td>\n",
       "      <td>(18.75, 26.0]</td>\n",
       "    </tr>\n",
       "    <tr>\n",
       "      <th>337</th>\n",
       "      <td>41.0</td>\n",
       "      <td>11.0</td>\n",
       "      <td>134.5000</td>\n",
       "      <td>14.0</td>\n",
       "      <td>(31.275, 51.479]</td>\n",
       "    </tr>\n",
       "    <tr>\n",
       "      <th>548</th>\n",
       "      <td>33.0</td>\n",
       "      <td>9.0</td>\n",
       "      <td>20.5250</td>\n",
       "      <td>8.0</td>\n",
       "      <td>(31.275, 51.479]</td>\n",
       "    </tr>\n",
       "    <tr>\n",
       "      <th>130</th>\n",
       "      <td>33.0</td>\n",
       "      <td>9.0</td>\n",
       "      <td>7.8958</td>\n",
       "      <td>3.0</td>\n",
       "      <td>(31.275, 51.479]</td>\n",
       "    </tr>\n",
       "  </tbody>\n",
       "</table>\n",
       "<p>571 rows × 5 columns</p>\n",
       "</div>"
      ],
      "text/plain": [
       "     Original age  Discretized age  original fare  discretized fare  \\\n",
       "328          31.0              8.0        20.5250               8.0   \n",
       "73           26.0              6.0        14.4542               7.0   \n",
       "253          30.0              8.0        16.1000               7.0   \n",
       "719          33.0              9.0         7.7750               2.0   \n",
       "666          25.0              6.0        13.0000               6.0   \n",
       "..            ...              ...            ...               ...   \n",
       "92           46.0             12.0        61.1750              12.0   \n",
       "134          25.0              6.0        13.0000               6.0   \n",
       "337          41.0             11.0       134.5000              14.0   \n",
       "548          33.0              9.0        20.5250               8.0   \n",
       "130          33.0              9.0         7.8958               3.0   \n",
       "\n",
       "           age labels  \n",
       "328   (26.55, 31.275]  \n",
       "73      (18.75, 26.0]  \n",
       "253   (26.55, 31.275]  \n",
       "719  (31.275, 51.479]  \n",
       "666     (18.75, 26.0]  \n",
       "..                ...  \n",
       "92   (31.275, 51.479]  \n",
       "134     (18.75, 26.0]  \n",
       "337  (31.275, 51.479]  \n",
       "548  (31.275, 51.479]  \n",
       "130  (31.275, 51.479]  \n",
       "\n",
       "[571 rows x 5 columns]"
      ]
     },
     "execution_count": 29,
     "metadata": {},
     "output_type": "execute_result"
    }
   ],
   "source": [
    "new_df"
   ]
  },
  {
   "cell_type": "code",
   "execution_count": 30,
   "id": "92d7a302",
   "metadata": {},
   "outputs": [],
   "source": [
    "clf = DecisionTreeClassifier()\n",
    "clf.fit(X_train_trf, y_train)\n",
    "y_pred = clf.predict(X_test_trf)"
   ]
  },
  {
   "cell_type": "code",
   "execution_count": 31,
   "id": "2052ec85",
   "metadata": {},
   "outputs": [
    {
     "data": {
      "text/plain": [
       "0.6363636363636364"
      ]
     },
     "execution_count": 31,
     "metadata": {},
     "output_type": "execute_result"
    }
   ],
   "source": [
    "accuracy_score(y_test, y_pred)"
   ]
  },
  {
   "cell_type": "code",
   "execution_count": 35,
   "id": "74184958",
   "metadata": {},
   "outputs": [
    {
     "data": {
      "text/plain": [
       "0.6387471683246331"
      ]
     },
     "execution_count": 35,
     "metadata": {},
     "output_type": "execute_result"
    }
   ],
   "source": [
    "trf = ColumnTransformer([\n",
    "    ('first', kbins_age, [0]),\n",
    "    ('second', kbins_fare, [1])\n",
    "])\n",
    "X_trf = trf.fit_transform(X)\n",
    "cross_val_score(clf, X_trf, y, scoring = 'accuracy').mean()"
   ]
  },
  {
   "cell_type": "code",
   "execution_count": 51,
   "id": "7643e18e",
   "metadata": {},
   "outputs": [],
   "source": [
    "def discretize(bins, strategy):\n",
    "    \n",
    "    kbins_age = KBinsDiscretizer(n_bins=bins, encode='ordinal', strategy=strategy)\n",
    "    Kbins_fare = KBinsDiscretizer(n_bins=bins, encode= 'ordinal', strategy=strategy)\n",
    "    \n",
    "    col_trf = ColumnTransformer([\n",
    "        ('first', kbins_age, [0]),\n",
    "        ('second', kbins_fare, [1])\n",
    "    ])\n",
    "    \n",
    "    X_trf = col_trf.fit_transform(X)\n",
    "    print(cross_val_score(clf, X_trf, y, scoring = 'accuracy'))\n",
    "    \n",
    "    plt.figure(figsize=(14,5))\n",
    "    plt.subplot(121)\n",
    "    plt.hist(X['Age'], color='red')\n",
    "    plt.title('Before')\n",
    "        \n",
    "    plt.subplot(122)\n",
    "    plt.hist(X_trf[:, 0])\n",
    "    plt.title('after')\n",
    "    plt.show()\n",
    "    "
   ]
  },
  {
   "cell_type": "code",
   "execution_count": 52,
   "id": "b2bf4b2d",
   "metadata": {},
   "outputs": [
    {
     "name": "stdout",
     "output_type": "stream",
     "text": [
      "[0.53146853 0.69230769 0.67132867 0.66433566 0.66901408]\n"
     ]
    },
    {
     "data": {
      "image/png": "iVBORw0KGgoAAAANSUhEUgAABHUAAAHBCAYAAADn8YfpAAAAOXRFWHRTb2Z0d2FyZQBNYXRwbG90bGliIHZlcnNpb24zLjcuMSwgaHR0cHM6Ly9tYXRwbG90bGliLm9yZy/bCgiHAAAACXBIWXMAAA9hAAAPYQGoP6dpAABEVUlEQVR4nO3dfVxUdd7/8ffEzYgEJKAMs6Gii9mGmmmp2CZmaqTW5paZZZjm2momqalkXaJbkLZrtpp2s15qmWuP3dR1u1nFUsxLd/O21Lq82dCwJLYyEDVQ/P7+6OdcjYA6yjh88fV8PM7j4XzPdw6fD19vDm/PmeMwxhgBAAAAAADAKpcFugAAAAAAAAD4jlAHAAAAAADAQoQ6AAAAAAAAFiLUAQAAAAAAsBChDgAAAAAAgIUIdQAAAAAAACxEqAMAAAAAAGAhQh0AAAAAAAALEeoAAAAAAABYiFAHwDmZP3++HA6H19awYUOlpqbq7bffPq9jlpeX6+GHH1Z8fLyCgoJ07bXX1mzRAAAAdcDWrVvVpUsXRUVFyeFwaMaMGXr33XeVlZUV6NIABFhwoAsAYJd58+apZcuWMsaosLBQs2bNUp8+fbR8+XL16dPHp2PNmTNHL7/8smbOnKl27drp8ssv91PVAAAA9ho8eLCOHDmixYsXq0GDBmratKmefvppvfjiiwQ7wCWOUAeAT5KTk9W+fXvP61tvvVUNGjTQn//8Z59DnR07digsLEyPPPJIjdV37NgxhYWF1djxAAAAAm3Hjh0aOnSo0tLS/P61jh49qvr16/v96wCoGdx+BeCC1KtXT6GhoQoJCfGMlZeX6+mnn1bLli3ldDrVsGFDPfjgg/rPf/7jmeNwOPSnP/1Jx44d89zONX/+fEnSDz/8oMzMTCUmJio0NFQ/+9nPNGLECH3//fdeX7tp06bq3bu3lixZorZt26pevXqaPHmyJKmwsFDDhg3TlVdeqdDQUCUmJmry5Mk6ceKE378nAAAAZ7N37149+OCDSkpKUv369fWzn/1Mffr00fbt2z1zTt3+fuLECc2ZM8dzzjRo0CC9+OKLkuR1a/y+ffskScYYzZ49W9dee63CwsLUoEED3XXXXfr888+9akhNTVVycrLWrl2rlJQU1a9fX4MHD75o3wMAF44rdQD4pKKiQidOnJAxRl9//bWee+45HTlyRAMGDJAknTx5UnfccYc+/PBDjRs3TikpKdq/f78mTZqk1NRUbdq0SWFhYdqwYYN+97vfafXq1frggw8kSc2bN5cxRr/61a/0/vvvKzMzU7/85S/1ySefaNKkSdqwYYM2bNggp9PpqWfLli367LPP9OSTTyoxMVHh4eEqLCzUDTfcoMsuu0z/9V//pebNm2vDhg16+umntW/fPs2bNy8g3zsAAIBTvvrqK8XExOjZZ59Vw4YN9d1332nBggXq0KGDtm7dqquuukq9evXShg0b1KlTJ911110aM2aMJKlhw4Y6cuSI/vrXv2rDhg2eY8bHx0uShg0bpvnz5+vRRx/V1KlT9d1332nKlClKSUnRxx9/rLi4OM97Dh48qPvvv1/jxo1Tdna2LruM//cHrGIA4BzMmzfPSKq0OZ1OM3v2bM+8P//5z0aSeeutt7zev3HjRiPJa256eroJDw/3mvePf/zDSDLTpk3zGn/zzTeNJPPKK694xpo0aWKCgoLMrl27vOYOGzbMXH755Wb//v1e47///e+NJLNz587z+yYAAAD4yYkTJ0x5eblJSkoyjz32mNc+SWbEiBFeYyNGjDBV/Ti3YcMGI8n84Q9/8BovKCgwYWFhZty4cZ6xLl26GEnm/fffr8FOAFxMxLAAfPLaa69p48aN2rhxo9577z2lp6drxIgRmjVrliTp7bff1hVXXKE+ffroxIkTnu3aa6+Vy+XSmjVrznj8U1ftDBo0yGv87rvvVnh4uN5//32v8datW6tFixZeY2+//ba6du0qt9vtVcOp+9Dz8vIu4DsAAABw4U6cOKHs7Gz94he/UGhoqIKDgxUaGqo9e/bos88+O+/jvv3223I4HLr//vu9zoNcLpfatGlT6VysQYMGuvnmmy+wGwCBwu1XAHxy9dVXV/qg5P3792vcuHG6//779fXXX+v7779XaGhole//5ptvznj8b7/9VsHBwWrYsKHXuMPhkMvl0rfffus1fuoy45/6+uuv9fe//93rc358qQEAAMDfRo8erRdffFHjx49Xly5d1KBBA1122WV66KGHdOzYsfM+7tdffy1jjNctVj/VrFkzr9dVnUsBsAehDoAL1rp1a61YsUK7d+9WbGysYmJi9I9//KPKuREREWc8VkxMjE6cOKH//Oc/XsGO+f+PUL/++uu95jscjkrHiI2NVevWrfXMM89U+TXcbvfZWgIAAPCrhQsX6oEHHlB2drbX+DfffKMrrrjivI8bGxsrh8OhDz/80OtzCE85fayqcykA9iDUAXDBtm3bJunHD+3r3bu3Fi9erIqKCnXo0MHnY3Xr1k3Tpk3TwoUL9dhjj3nG33rrLR05ckTdunU76zF69+6td999V82bN1eDBg18rgEAAMDfHA5HpYDlnXfe0Zdffqmf//znZ33/qfceO3ZMYWFhnvHevXvr2Wef1Zdffql+/frVbNEAah1CHQA+2bFjh+ex4N9++62WLFmi3Nxc3XnnnUpMTFTjxo31xhtv6LbbbtOoUaN0ww03KCQkRAcOHNDq1at1xx136M4776z2+N27d1fPnj01fvx4lZSUqHPnzp6nX7Vt21YDBw48a41TpkxRbm6uUlJS9Oijj+qqq67SDz/8oH379undd9/VSy+9pCuvvLLGvicAAAC+6t27t+bPn6+WLVuqdevW2rx5s5577rlzPkdp1aqVJGnq1KlKS0tTUFCQWrdurc6dO+s3v/mNHnzwQW3atEk33XSTwsPDdfDgQa1bt06tWrXSb3/7W3+2BuAiItQB4JMHH3zQ8+uoqCglJiZq+vTpGj58uCQpKChIy5cv1wsvvKDXX39dOTk5Cg4O1pVXXqkuXbp4TkCq43A4tGzZMmVlZWnevHl65plnFBsbq4EDByo7O7vKy4hPFx8fr02bNul3v/udnnvuOR04cEARERFKTEzUrbfeytU7AAAg4F544QWFhIQoJydHpaWluu6667RkyRI9+eST5/T+AQMG6H/+5380e/ZsTZkyRcYY5efnq2nTpnr55ZfVsWNHvfzyy5o9e7ZOnjwpt9utzp0764YbbvBzZwAuJocxxgS6CAAAAAAAAPiGR5oDAAAAAABYiFAHAAAAAADAQoQ6AAAAAAAAFiLUAQAAAAAAsBChDgAAAAAAgIUIdQAAAAAAACwUHOgCzsfJkyf11VdfKSIiQg6HI9DlAACAMzDG6PDhw3K73brsMv4/KVA4fwIAwA6+nDtZGep89dVXSkhICHQZAADABwUFBbryyisDXcYli/MnAADsci7nTlaGOhEREZJ+bDAyMjLA1QAAgDMpKSlRQkKC599vBAbnTwAA2MGXcycrQ51TlwxHRkZyUgIAgCW45SewOH8CAMAu53LuxI3tAAAAAAAAFiLUAQAAAAAAsBChDgAAAAAAgIUIdQAAAAAAACxEqAMAAAAAAGAhQh0AAAAAAAALEeoAAAAAAABYiFAHAAAAAADAQoQ6AAAAAAAAFiLUAQAAAAAAsBChDgAAAAAAgIUIdQAAAAAAACxEqAMAAAAAAGAhQh0AAAAAAAALEeoAAAAAAABYyOdQZ+3aterTp4/cbrccDoeWLVvmtd/hcFS5Pffcc545qamplfb379//gpsBAAAAAAC4VAT7+oYjR46oTZs2evDBB/XrX/+60v6DBw96vX7vvfc0ZMiQSnOHDh2qKVOmeF6HhYX5Wgps5nAEugLfGRPoCgAAAIBKmk54J9Al+Gzfs70CXQJQJ/gc6qSlpSktLa3a/S6Xy+v13/72N3Xt2lXNmjXzGq9fv36luQAAAAAAADg3fv1Mna+//lrvvPOOhgwZUmnfG2+8odjYWF1zzTUaO3asDh8+7M9SAAAAAAAA6hSfr9TxxYIFCxQREaG+fft6jd93331KTEyUy+XSjh07lJmZqY8//li5ublVHqesrExlZWWe1yUlJf4sGwAAAAAAoNbza6jz3//937rvvvtUr149r/GhQ4d6fp2cnKykpCS1b99eW7Zs0XXXXVfpODk5OZo8ebI/SwUAAAAAAAHE50P5zm+3X3344YfatWuXHnroobPOve666xQSEqI9e/ZUuT8zM1PFxcWeraCgoKbLBQAAAAAAsIrfrtSZO3eu2rVrpzZt2px17s6dO3X8+HHFx8dXud/pdMrpdNZ0iQAAAAAAANbyOdQpLS3V3r17Pa/z8/O1bds2RUdHq3HjxpJ+/Mybv/zlL/rDH/5Q6f3//ve/9cYbb+i2225TbGysPv30U40ZM0Zt27ZV586dL6AVAAAAAACAS4fPoc6mTZvUtWtXz+vRo0dLktLT0zV//nxJ0uLFi2WM0b333lvp/aGhoXr//ff1wgsvqLS0VAkJCerVq5cmTZqkoKCg82wDAAAAAADg0uJzqJOamipjzBnn/OY3v9FvfvObKvclJCQoLy/P1y8LAAAAAACAn/DbByUDAAAAAADAfwh1AAAAAAAALESoAwAAAAAAYCFCHQAAAAAAAAsR6gAAAAAAAFiIUAcAAAAAAMBCPj/SHLhkORyBrsB3xgS6AgAAAACAn3ClDgAAAAAAgIUIdQAAAAAAACxEqAMAAAAAAGAhQh0AAAA/Wrt2rfr06SO32y2Hw6Fly5ZVO3fYsGFyOByaMWOG13hZWZlGjhyp2NhYhYeH6/bbb9eBAwf8WzgAAKj1CHUAAAD86MiRI2rTpo1mzZp1xnnLli3Tv/71L7nd7kr7MjIytHTpUi1evFjr1q1TaWmpevfurYqKCn+VDQAALMDTrwAAAPwoLS1NaWlpZ5zz5Zdf6pFHHtGKFSvUq1cvr33FxcWaO3euXn/9dd1yyy2SpIULFyohIUGrVq1Sz549/VY7AACo3bhSBwAAIIBOnjypgQMH6vHHH9c111xTaf/mzZt1/Phx9ejRwzPmdruVnJys9evXV3vcsrIylZSUeG0AAKBuIdQBAAAIoKlTpyo4OFiPPvpolfsLCwsVGhqqBg0aeI3HxcWpsLCw2uPm5OQoKirKsyUkJNRo3QAAIPAIdQAAAAJk8+bNeuGFFzR//nw5HA6f3muMOeN7MjMzVVxc7NkKCgoutFwAAFDL8Jk6AAAAAfLhhx+qqKhIjRs39oxVVFRozJgxmjFjhvbt2yeXy6Xy8nIdOnTI62qdoqIipaSkVHtsp9Mpp9Pp1/p/qumEdy7a16oJ+57tdfZJtYxt32PJzu8zANiEK3UAAAACZODAgfrkk0+0bds2z+Z2u/X4449rxYoVkqR27dopJCREubm5nvcdPHhQO3bsOGOoAwAA6j6u1AEAAPCj0tJS7d271/M6Pz9f27ZtU3R0tBo3bqyYmBiv+SEhIXK5XLrqqqskSVFRURoyZIjGjBmjmJgYRUdHa+zYsWrVqpXnaVgAAODSRKgDAADgR5s2bVLXrl09r0ePHi1JSk9P1/z588/pGM8//7yCg4PVr18/HTt2TN26ddP8+fMVFBTkj5IBAKfh9kfUVoQ6AAAAfpSamipjzDnP37dvX6WxevXqaebMmZo5c2YNVgYAAGzHZ+oAAAAAAABYiFAHAAAAAADAQoQ6AAAAAAAAFiLUAQAAAAAAsBChDgAAAAAAgIUIdQAAAAAAACxEqAMAAAAAAGAhQh0AAAAAAAALEeoAAAAAAABYiFAHAAAAAADAQoQ6AAAAAAAAFiLUAQAAAAAAsBChDgAAAAAAgIUIdQAAAAAAACxEqAMAAAAAAGAhQh0AAAAAAAALEeoAAAAAAABYiFAHAAAAAADAQoQ6AAAAAAAAFiLUAQAAAAAAsJDPoc7atWvVp08fud1uORwOLVu2zGv/oEGD5HA4vLaOHTt6zSkrK9PIkSMVGxur8PBw3X777Tpw4MAFNQIAAAAAAHAp8TnUOXLkiNq0aaNZs2ZVO+fWW2/VwYMHPdu7777rtT8jI0NLly7V4sWLtW7dOpWWlqp3796qqKjwvQMAAAAAAIBLULCvb0hLS1NaWtoZ5zidTrlcrir3FRcXa+7cuXr99dd1yy23SJIWLlyohIQErVq1Sj179vS1JAAAAAAAgEuOXz5TZ82aNWrUqJFatGihoUOHqqioyLNv8+bNOn78uHr06OEZc7vdSk5O1vr16/1RDgAAAAAAQJ3j85U6Z5OWlqa7775bTZo0UX5+vp566indfPPN2rx5s5xOpwoLCxUaGqoGDRp4vS8uLk6FhYVVHrOsrExlZWWe1yUlJTVdNgAAAAAAgFVqPNS55557PL9OTk5W+/bt1aRJE73zzjvq27dvte8zxsjhcFS5LycnR5MnT67pUgEAAAAAAKzl90eax8fHq0mTJtqzZ48kyeVyqby8XIcOHfKaV1RUpLi4uCqPkZmZqeLiYs9WUFDg77IBAAAAAABqNb+HOt9++60KCgoUHx8vSWrXrp1CQkKUm5vrmXPw4EHt2LFDKSkpVR7D6XQqMjLSawMAAAAAALiU+Xz7VWlpqfbu3et5nZ+fr23btik6OlrR0dHKysrSr3/9a8XHx2vfvn164oknFBsbqzvvvFOSFBUVpSFDhmjMmDGKiYlRdHS0xo4dq1atWnmehgUAAAAAAIAz8znU2bRpk7p27ep5PXr0aElSenq65syZo+3bt+u1117T999/r/j4eHXt2lVvvvmmIiIiPO95/vnnFRwcrH79+unYsWPq1q2b5s+fr6CgoBpoCQAAAAAAoO7zOdRJTU2VMaba/StWrDjrMerVq6eZM2dq5syZvn55AAAAAAAA6CJ8pg4AAAAAAABqHqEOAAAAAACAhQh1AAAAAAAALESoAwAAAAAAYCFCHQAAAAAAAAsR6gAAAAAAAFiIUAcAAAAAAMBChDoAAAB+tHbtWvXp00dut1sOh0PLli3z7Dt+/LjGjx+vVq1aKTw8XG63Ww888IC++uorr2OUlZVp5MiRio2NVXh4uG6//XYdOHDgIncCAABqG0IdAAAAPzpy5IjatGmjWbNmVdp39OhRbdmyRU899ZS2bNmiJUuWaPfu3br99tu95mVkZGjp0qVavHix1q1bp9LSUvXu3VsVFRUXqw0AAFALBQe6AAAAgLosLS1NaWlpVe6LiopSbm6u19jMmTN1ww036IsvvlDjxo1VXFysuXPn6vXXX9ctt9wiSVq4cKESEhK0atUq9ezZ0+89AACA2okrdQAAAGqR4uJiORwOXXHFFZKkzZs36/jx4+rRo4dnjtvtVnJystavX1/tccrKylRSUuK1AQCAuoVQBwAAoJb44YcfNGHCBA0YMECRkZGSpMLCQoWGhqpBgwZec+Pi4lRYWFjtsXJychQVFeXZEhIS/Fo7AAC4+Ah1AAAAaoHjx4+rf//+OnnypGbPnn3W+cYYORyOavdnZmaquLjYsxUUFNRkuQAAoBYg1AEAAAiw48ePq1+/fsrPz1dubq7nKh1JcrlcKi8v16FDh7zeU1RUpLi4uGqP6XQ6FRkZ6bUBAIC6hVAHAAAggE4FOnv27NGqVasUExPjtb9du3YKCQnx+kDlgwcPaseOHUpJSbnY5QIAgFqEp18BAAD4UWlpqfbu3et5nZ+fr23btik6Olput1t33XWXtmzZorffflsVFRWez8mJjo5WaGiooqKiNGTIEI0ZM0YxMTGKjo7W2LFj1apVK8/TsAAAwKWJUAcAAMCPNm3apK5du3pejx49WpKUnp6urKwsLV++XJJ07bXXer1v9erVSk1NlSQ9//zzCg4OVr9+/XTs2DF169ZN8+fPV1BQ0EXpAQAA1E6EOgAAAH6UmpoqY0y1+8+075R69epp5syZmjlzZk2WBgAALMdn6gAAAAAAAFiIUAcAAAAAAMBChDoAAAAAAAAWItQBAAAAAACwEKEOAAAAAACAhQh1AAAAAAAALESoAwAAAAAAYCFCHQAAAAAAAAsR6gAAAAAAAFiIUAcAAAAAAMBChDoAAAAAAAAWItQBAAAAAACwEKEOAAAAAACAhQh1AAAAAAAALESoAwAAAAAAYCFCHQAAAAAAAAsR6gAAAAAAAFiIUAcAAAAAAMBChDoAAAAAAAAWItQBAAAAAACwEKEOAAAAAACAhQh1AAAAAAAALESoAwAAAAAAYCGfQ521a9eqT58+crvdcjgcWrZsmWff8ePHNX78eLVq1Urh4eFyu9164IEH9NVXX3kdIzU1VQ6Hw2vr37//BTcDAAAAAABwqfA51Dly5IjatGmjWbNmVdp39OhRbdmyRU899ZS2bNmiJUuWaPfu3br99tsrzR06dKgOHjzo2V5++eXz6wAAAAAAAOASFOzrG9LS0pSWllblvqioKOXm5nqNzZw5UzfccIO++OILNW7c2DNev359uVwuX788AAAAAAAAdBE+U6e4uFgOh0NXXHGF1/gbb7yh2NhYXXPNNRo7dqwOHz5c7THKyspUUlLitQEAAAAAAFzKfL5Sxxc//PCDJkyYoAEDBigyMtIzft999ykxMVEul0s7duxQZmamPv7440pX+ZySk5OjyZMn+7NUAAAAAAAAq/gt1Dl+/Lj69++vkydPavbs2V77hg4d6vl1cnKykpKS1L59e23ZskXXXXddpWNlZmZq9OjRntclJSVKSEjwV+kAAAAAAAC1nl9CnePHj6tfv37Kz8/XBx984HWVTlWuu+46hYSEaM+ePVWGOk6nU06n0x+lAgAAAAAAWKnGQ51Tgc6ePXu0evVqxcTEnPU9O3fu1PHjxxUfH1/T5QAAAAAAANRJPoc6paWl2rt3r+d1fn6+tm3bpujoaLndbt11113asmWL3n77bVVUVKiwsFCSFB0drdDQUP373//WG2+8odtuu02xsbH69NNPNWbMGLVt21adO3euuc4AAAAAAADqMJ9DnU2bNqlr166e16c+6yY9PV1ZWVlavny5JOnaa6/1et/q1auVmpqq0NBQvf/++3rhhRdUWlqqhIQE9erVS5MmTVJQUNAFtAIAAAAAAHDp8DnUSU1NlTGm2v1n2idJCQkJysvL8/XLAgAAAAAA4CcuC3QBAAAAAAAA8B2hDgAAAAAAgIUIdQAAAAAAACxEqAMAAOBHa9euVZ8+feR2u+VwOLRs2TKv/cYYZWVlye12KywsTKmpqdq5c6fXnLKyMo0cOVKxsbEKDw/X7bffrgMHDlzELgAAQG1EqAMAAOBHR44cUZs2bTRr1qwq90+bNk3Tp0/XrFmztHHjRrlcLnXv3l2HDx/2zMnIyNDSpUu1ePFirVu3TqWlperdu7cqKiouVhsAAKAW8vnpVwAAADh3aWlpSktLq3KfMUYzZszQxIkT1bdvX0nSggULFBcXp0WLFmnYsGEqLi7W3Llz9frrr+uWW26RJC1cuFAJCQlatWqVevbsedF6AQAAtQtX6gAAAARIfn6+CgsL1aNHD8+Y0+lUly5dtH79eknS5s2bdfz4ca85brdbycnJnjkAAODSxJU6AAAAAVJYWChJiouL8xqPi4vT/v37PXNCQ0PVoEGDSnNOvb8qZWVlKisr87wuKSmpqbIBAEAtwZU6QF3mcNi3AcAlyHHa33/GmEpjpzvbnJycHEVFRXm2hISEGqkVAADUHoQ6AAAAAeJyuSSp0hU3RUVFnqt3XC6XysvLdejQoWrnVCUzM1PFxcWeraCgoIarBwAAgUaoAwAAECCJiYlyuVzKzc31jJWXlysvL08pKSmSpHbt2ikkJMRrzsGDB7Vjxw7PnKo4nU5FRkZ6bQAAoG7hM3UAAAD8qLS0VHv37vW8zs/P17Zt2xQdHa3GjRsrIyND2dnZSkpKUlJSkrKzs1W/fn0NGDBAkhQVFaUhQ4ZozJgxiomJUXR0tMaOHatWrVp5noYFAAAuTYQ6AAAAfrRp0yZ17drV83r06NGSpPT0dM2fP1/jxo3TsWPHNHz4cB06dEgdOnTQypUrFRER4XnP888/r+DgYPXr10/Hjh1Tt27dNH/+fAUFBV30fgAAQO1BqAMAAOBHqampMsZUu9/hcCgrK0tZWVnVzqlXr55mzpypmTNn+qFCAABgKz5TBwAAAAAAwEKEOgAAAAAAABYi1AEAAAAAALAQoQ4AAAAAAICFCHUAAAAAAAAsRKgDAAAAAABgIUIdAAAAAAAACxHqAAAAAAAAWIhQBwAAAAAAwEKEOgAAAAAAABYi1AEAAAAAALAQoQ4AAAAAAICFCHUAAAAAAAAsRKgDAAAAAABgIUIdAAAAAAAACxHqAAAAAAAAWIhQBwAAAAAAwEKEOgAAAAAAABYi1AEAAAAAALAQoQ4AAAAAAICFCHUAAAAAAAAsRKgDAAAAAABgIUIdAAAAAAAACxHqAAAAAAAAWIhQBwAAAAAAwEKEOgAAAAAAABYi1AEAAAAAALCQz6HO2rVr1adPH7ndbjkcDi1btsxrvzFGWVlZcrvdCgsLU2pqqnbu3Ok1p6ysTCNHjlRsbKzCw8N1++2368CBAxfUCAAAAAAAwKXE51DnyJEjatOmjWbNmlXl/mnTpmn69OmaNWuWNm7cKJfLpe7du+vw4cOeORkZGVq6dKkWL16sdevWqbS0VL1791ZFRcX5dwIAAAAAAHAJCfb1DWlpaUpLS6tynzFGM2bM0MSJE9W3b19J0oIFCxQXF6dFixZp2LBhKi4u1ty5c/X666/rlltukSQtXLhQCQkJWrVqlXr27HkB7QAAAAAAAFwaavQzdfLz81VYWKgePXp4xpxOp7p06aL169dLkjZv3qzjx497zXG73UpOTvbMOV1ZWZlKSkq8NgAAAAAAgEtZjYY6hYWFkqS4uDiv8bi4OM++wsJChYaGqkGDBtXOOV1OTo6ioqI8W0JCQk2WDQAAAAAAYB2/PP3K4XB4vTbGVBo73ZnmZGZmqri42LMVFBTUWK0AAAAAAAA2qtFQx+VySVKlK26Kioo8V++4XC6Vl5fr0KFD1c45ndPpVGRkpNcGAAAAAABwKavRUCcxMVEul0u5ubmesfLycuXl5SklJUWS1K5dO4WEhHjNOXjwoHbs2OGZAwAAAAAAgDPz+elXpaWl2rt3r+d1fn6+tm3bpujoaDVu3FgZGRnKzs5WUlKSkpKSlJ2drfr162vAgAGSpKioKA0ZMkRjxoxRTEyMoqOjNXbsWLVq1crzNCwAAAAAAACcmc+hzqZNm9S1a1fP69GjR0uS0tPTNX/+fI0bN07Hjh3T8OHDdejQIXXo0EErV65URESE5z3PP/+8goOD1a9fPx07dkzdunXT/PnzFRQUVAMtAQAAAAAA1H0+hzqpqakyxlS73+FwKCsrS1lZWdXOqVevnmbOnKmZM2f6+uUBAAAAAAAgPz39CgAAAOfuxIkTevLJJ5WYmKiwsDA1a9ZMU6ZM0cmTJz1zjDHKysqS2+1WWFiYUlNTtXPnzgBWDQAAAo1QBwAAIMCmTp2ql156SbNmzdJnn32madOm6bnnnvO6qnnatGmaPn26Zs2apY0bN8rlcql79+46fPhwACsHAACBRKgDAAAQYBs2bNAdd9yhXr16qWnTprrrrrvUo0cPbdq0SdKPV+nMmDFDEydOVN++fZWcnKwFCxbo6NGjWrRoUYCrBwAAgUKoAwAAEGA33nij3n//fe3evVuS9PHHH2vdunW67bbbJP34tNHCwkL16NHD8x6n06kuXbpo/fr1AakZAAAEns8flAwAAICaNX78eBUXF6tly5YKCgpSRUWFnnnmGd17772SpMLCQklSXFyc1/vi4uK0f//+Ko9ZVlamsrIyz+uSkhI/VQ8AAAKFK3UAAAAC7M0339TChQu1aNEibdmyRQsWLNDvf/97LViwwGuew+Hwem2MqTR2Sk5OjqKiojxbQkKC3+oHAACBQagDAAAQYI8//rgmTJig/v37q1WrVho4cKAee+wx5eTkSJJcLpek/7ti55SioqJKV++ckpmZqeLiYs9WUFDg3yYAAMBFR6gDAAAQYEePHtVll3mflgUFBXkeaZ6YmCiXy6Xc3FzP/vLycuXl5SklJaXKYzqdTkVGRnptAACgbuEzdQAAAAKsT58+euaZZ9S4cWNdc8012rp1q6ZPn67BgwdL+vG2q4yMDGVnZyspKUlJSUnKzs5W/fr1NWDAgABXDwAAAoVQBwAAIMBmzpypp556SsOHD1dRUZHcbreGDRum//qv//LMGTdunI4dO6bhw4fr0KFD6tChg1auXKmIiIgAVg4AAAKJUAcAACDAIiIiNGPGDM2YMaPaOQ6HQ1lZWcrKyrpodQEAgNqNz9QBAAAAAACwEKEOAAAAAACAhQh1AAAAAAAALESoAwAAAAAAYCFCHQAAAAAAAAsR6gAAAAAAAFiIUAcAAAAAAMBChDoAAAAAAAAWItQBAAAAAACwEKEOAAAAAACAhQh1AAAAAAAALESoAwAAAAAAYCFCHQAAAAAAAAsR6gAAAAAAAFiIUAcAAAAAAMBChDoAAAAAAAAWItQBAAAAAACwEKEOAAAAAACAhQh1AAAAAAAALESoAwAAAAAAYCFCHQAAAAAAAAsR6gAAAAAAAFiIUAcAAAAAAMBChDoAAAAAAAAWItQBAAAAAACwEKEOAAAAAACAhQh1AAAAAAAALESoAwAAAAAAYCFCHQAAAAAAAAvVeKjTtGlTORyOStuIESMkSYMGDaq0r2PHjjVdBgAAAAAAQJ0WXNMH3LhxoyoqKjyvd+zYoe7du+vuu+/2jN16662aN2+e53VoaGhNlwEAAAAAAFCn1Xio07BhQ6/Xzz77rJo3b64uXbp4xpxOp1wuV01/aQAAAAAAgEuGXz9Tp7y8XAsXLtTgwYPlcDg842vWrFGjRo3UokULDR06VEVFRf4sAwAAAAAAoM6p8St1fmrZsmX6/vvvNWjQIM9YWlqa7r77bjVp0kT5+fl66qmndPPNN2vz5s1yOp1VHqesrExlZWWe1yUlJf4sGwAAAAAAoNbza6gzd+5cpaWlye12e8buuecez6+Tk5PVvn17NWnSRO+884769u1b5XFycnI0efJkf5YKAAAAAABgFb/dfrV//36tWrVKDz300BnnxcfHq0mTJtqzZ0+1czIzM1VcXOzZCgoKarpcAAAAAAAAq/jtSp158+apUaNG6tWr1xnnffvttyooKFB8fHy1c5xOZ7W3ZgEAAAAAAFyK/HKlzsmTJzVv3jylp6crOPj/cqPS0lKNHTtWGzZs0L59+7RmzRr16dNHsbGxuvPOO/1RCgAAAAAAQJ3kl1Bn1apV+uKLLzR48GCv8aCgIG3fvl133HGHWrRoofT0dLVo0UIbNmxQRESEP0oBAACwwpdffqn7779fMTExql+/vq699lpt3rzZs98Yo6ysLLndboWFhSk1NVU7d+4MYMUAACDQ/HL7VY8ePWSMqTQeFhamFStW+ONLAgAAWOvQoUPq3Lmzunbtqvfee0+NGjXSv//9b11xxRWeOdOmTdP06dM1f/58tWjRQk8//bS6d++uXbt28Z9jAABcovz69CsAAACc3dSpU5WQkKB58+Z5xpo2ber5tTFGM2bM0MSJEz1PC12wYIHi4uK0aNEiDRs27GKXDAAAagG/Pf0KAAAA52b58uVq37697r77bjVq1Eht27bVq6++6tmfn5+vwsJC9ejRwzPmdDrVpUsXrV+/PhAlAwCAWoBQBwAAIMA+//xzzZkzR0lJSVqxYoUefvhhPfroo3rttdckSYWFhZKkuLg4r/fFxcV59p2urKxMJSUlXhsAAKhbuP0KAAAgwE6ePKn27dsrOztbktS2bVvt3LlTc+bM0QMPPOCZ53A4vN5njKk0dkpOTo4mT57sv6IBAEDAcaUOgNrF4bBvA4ALFB8fr1/84hdeY1dffbW++OILSZLL5ZKkSlflFBUVVbp655TMzEwVFxd7toKCAj9UDgAAAolQBwAAIMA6d+6sXbt2eY3t3r1bTZo0kSQlJibK5XIpNzfXs7+8vFx5eXlKSUmp8phOp1ORkZFeGwAAqFu4/QoAACDAHnvsMaWkpCg7O1v9+vXTRx99pFdeeUWvvPKKpB9vu8rIyFB2draSkpKUlJSk7Oxs1a9fXwMGDAhw9QAAIFAIdQAAAALs+uuv19KlS5WZmakpU6YoMTFRM2bM0H333eeZM27cOB07dkzDhw/XoUOH1KFDB61cuVIREREBrBwAAAQSoQ4AAEAt0Lt3b/Xu3bva/Q6HQ1lZWcrKyrp4RQEAgFqNz9QBAAAAAACwEKEOAAAAAACAhQh1AAAAAAAALESoAwAAAAAAYCFCHQAAAAAAAAsR6gAAAAAAAFiIUAcAAAAAAMBChDoAAAAAAAAWItQBAAAAAACwEKEOAAAAAACAhQh1AAAAAAAALESoAwAAAAAAYCFCHQAAAAAAAAsR6gAAAAAAAFiIUAcAAAAAAMBChDoAAAAAAAAWItQBAAAAAACwEKEOAAAAAACAhQh1AAAAAAAALESoAwAAAAAAYCFCHQAAAAAAAAsR6gAAAAAAAFiIUAcAAAAAAMBChDoAAAAAAAAWItQBAAAAAACwEKEOAAAAAACAhQh1AAAAAAAALESoAwAAAAAAYKHgQBdQKzkcga7Ad8YEugIAAAAAAHARcaUOAAAAAACAhQh1AAAAAAAALESoAwAAAAAAYKEaD3WysrLkcDi8NpfL5dlvjFFWVpbcbrfCwsKUmpqqnTt31nQZAAAAAAAAdZpfrtS55pprdPDgQc+2fft2z75p06Zp+vTpmjVrljZu3CiXy6Xu3bvr8OHD/igFAAAAAACgTvJLqBMcHCyXy+XZGjZsKOnHq3RmzJihiRMnqm/fvkpOTtaCBQt09OhRLVq0yB+lAAAAAAAA1El+CXX27Nkjt9utxMRE9e/fX59//rkkKT8/X4WFherRo4dnrtPpVJcuXbR+/Xp/lAIAAAAAAFAnBdf0ATt06KDXXntNLVq00Ndff62nn35aKSkp2rlzpwoLCyVJcXFxXu+Ji4vT/v37qz1mWVmZysrKPK9LSkpqumwAAAAAAACr1Hiok5aW5vl1q1at1KlTJzVv3lwLFixQx44dJUkOh8PrPcaYSmM/lZOTo8mTJ9d0qQAAAAAAANby+yPNw8PD1apVK+3Zs8fzFKxTV+ycUlRUVOnqnZ/KzMxUcXGxZysoKPBrzQAAAIGSk5Mjh8OhjIwMzxhPDwUAAFXxe6hTVlamzz77TPHx8UpMTJTL5VJubq5nf3l5ufLy8pSSklLtMZxOpyIjI702AACAumbjxo165ZVX1Lp1a69xnh4KAACqUuOhztixY5WXl6f8/Hz961//0l133aWSkhKlp6d7/tcpOztbS5cu1Y4dOzRo0CDVr19fAwYMqOlSAAAArFFaWqr77rtPr776qho0aOAZ5+mhAACgOjUe6hw4cED33nuvrrrqKvXt21ehoaH65z//qSZNmkiSxo0bp4yMDA0fPlzt27fXl19+qZUrVyoiIqKmSwEAALDGiBEj1KtXL91yyy1e4zw9FAAAVKfGPyh58eLFZ9zvcDiUlZWlrKysmv7SAAAAVlq8eLG2bNmijRs3VtrH00MBAEB1/P6ZOgAAAKheQUGBRo0apYULF6pevXrVzjufp4dGRUV5toSEhBqrGQAA1A6EOgAAAAG0efNmFRUVqV27dgoODlZwcLDy8vL0xz/+UcHBwZ4rdHh6KAAAOF2N336FADnD/9QBAIDaq1u3btq+fbvX2IMPPqiWLVtq/PjxatasmefpoW3btpX0f08PnTp1arXHdTqdcjqdfq0dAAAEFqEOAABAAEVERCg5OdlrLDw8XDExMZ7xU08PTUpKUlJSkrKzs3l6KAAAINQBgAtm45VyxgS6AgA+GDdunI4dO6bhw4fr0KFD6tChA08PBQAAhDoAAAC1zZo1a7xe8/RQAABQFT4oGQAAAAAAwEKEOgAAAAAAABYi1AEAAAAAALAQoQ4AAAAAAICFCHUAAAAAAAAsRKgDAAAAAABgIUIdAAAAAAAACxHqAAAAAAAAWIhQBwAAAAAAwEKEOgAAAAAAABYi1AEAAAAAALAQoQ4AAAAAAICFCHUAAAAAAAAsRKgDAAAAAABgIUIdAAAAAAAACxHqAAAAAAAAWIhQBwAAAAAAwEKEOgAAAAAAABYi1AEAAAAAALAQoQ4AAAAAAICFCHUAAAAAAAAsRKgDAAAAAABgIUIdAAAAAAAACxHqAAAAAAAAWIhQBwAAAAAAwEKEOgAAAAAAABYi1AEAAAAAALAQoQ4AAAAAAICFCHUAAAAAAAAsRKgDAAAAAABgIUIdAAAAAAAACxHqAAAAAAAAWIhQBwAAAAAAwEKEOgAAAAAAABYi1AEAAAAAALBQjYc6OTk5uv766xUREaFGjRrpV7/6lXbt2uU1Z9CgQXI4HF5bx44da7oUAAAAAACAOqvGQ528vDyNGDFC//znP5Wbm6sTJ06oR48eOnLkiNe8W2+9VQcPHvRs7777bk2XAgAAAAAAUGcF1/QB//GPf3i9njdvnho1aqTNmzfrpptu8ow7nU65XK6a/vIAAAAAAACXBL9/pk5xcbEkKTo62mt8zZo1atSokVq0aKGhQ4eqqKio2mOUlZWppKTEawMAAKgrzuX2dWOMsrKy5Ha7FRYWptTUVO3cuTNAFQMAgNrAr6GOMUajR4/WjTfeqOTkZM94Wlqa3njjDX3wwQf6wx/+oI0bN+rmm29WWVlZlcfJyclRVFSUZ0tISPBn2QAAABfVudy+Pm3aNE2fPl2zZs3Sxo0b5XK51L17dx0+fDiAlQMAgECq8duvfuqRRx7RJ598onXr1nmN33PPPZ5fJycnq3379mrSpIneeecd9e3bt9JxMjMzNXr0aM/rkpISgh0AAFBnnO32dWOMZsyYoYkTJ3rOlRYsWKC4uDgtWrRIw4YNC0TZAAAgwPx2pc7IkSO1fPlyrV69WldeeeUZ58bHx6tJkybas2dPlfudTqciIyO9NgAAgLrq9NvX8/PzVVhYqB49enjmOJ1OdenSRevXr6/yGNy+DgBA3VfjoY4xRo888oiWLFmiDz74QImJiWd9z7fffquCggLFx8fXdDkAgKo4HHZtwCWkqtvXCwsLJUlxcXFec+Pi4jz7Tsft6wAA1H01HuqMGDFCCxcu1KJFixQREaHCwkIVFhbq2LFjkqTS0lKNHTtWGzZs0L59+7RmzRr16dNHsbGxuvPOO2u6HAAAAKucun39z3/+c6V9jtNCTmNMpbFTMjMzVVxc7NkKCgr8Ui8AAAicGv9MnTlz5kiSUlNTvcbnzZunQYMGKSgoSNu3b9drr72m77//XvHx8eratavefPNNRURE1HQ5AAAA1jh1+/ratWu9bl93uVySfrxi56dXNhcVFVW6eucUp9Mpp9Pp34IBAEBA1XioY4w54/6wsDCtWLGipr8sAACAtYwxGjlypJYuXao1a9ZUun09MTFRLpdLubm5atu2rSSpvLxceXl5mjp1aiBKBgAAtYBfn34FAACAsxsxYoQWLVqkv/3tb57b1yUpKipKYWFhcjgcysjIUHZ2tpKSkpSUlKTs7GzVr19fAwYMCHD1AAAgUAh1AAAAAuxst69L0rhx43Ts2DENHz5chw4dUocOHbRy5UpuXwcA4BJGqAMAABBgZ7t9XfrxQ5KzsrKUlZXl/4IAAIAVavzpVwAAAAAAAPA/Qh0AAAAAAAALEeoAAAAAAABYiFAHAAAAAADAQoQ6AAAAAAAAFiLUAQAAAAAAsBChDgAAAAAAgIUIdQAAAAAAACxEqAMAAAAAAGAhQh0AAAAAAAALEeoAAAAAAABYiFAHAAAAAADAQoQ6AAAAAAAAFiLUAQAAAAAAsBChDgAAAAAAgIUIdQAAAAAAACxEqAMAAAAAAGAhQh0AAAAAAAALEeoAAAAAAABYiFAHAAAAAADAQoQ6AAAAAAAAFiLUAQAAAAAAsBChDgAAAAAAgIUIdQAAAAAAACwUHOgCAAA4K4cj0BX4zphAVwAAAIA6jit1AAAAAAAALESoAwAAAAAAYCFCHQAAAAAAAAsR6gAAAAAAAFiIUAcAAAAAAMBChDoAAAAAAAAWItQBAAAAAACwEKEOAAAAAACAhQh1AAAAAAAALESoAwAAAAAAYCFCHQAAAAAAAAsR6gAAAAAAAFiIUAcAAAAAAMBCAQ11Zs+ercTERNWrV0/t2rXThx9+GMhyAACoOQ6HfRtqPc6dAADATwUs1HnzzTeVkZGhiRMnauvWrfrlL3+ptLQ0ffHFF4EqCQAAoNbi3AkAAJwuYKHO9OnTNWTIED300EO6+uqrNWPGDCUkJGjOnDmBKgkAAKDW4twJAACcLjgQX7S8vFybN2/WhAkTvMZ79Oih9evXV5pfVlamsrIyz+vi4mJJUklJiX8LBQDgUuKnf1dP/XttjPHL8S8Fvp47SRf//Olk2VG/HNdfbDyPtO17LNn5fbYRvzf8j+/xxcH32fuY53LuFJBQ55tvvlFFRYXi4uK8xuPi4lRYWFhpfk5OjiZPnlxpPCEhwW81AgBwyYmK8uvhDx8+rCg/f426ytdzJ4nzp7OJmhHoCi4NfJ9RHX5v+B/f44vDn9/nczl3Ckioc4rjtA9lNMZUGpOkzMxMjR492vP65MmT+u677xQTE1PlfF+VlJQoISFBBQUFioyMvODj1UZ1vUf6s19d75H+7FfXe/Rnf8YYHT58WG63u0aPeyk613Mnyf/nTz/Fnw+70Z/d6M9u9Gc3f/Xny7lTQEKd2NhYBQUFVfqfpaKiokr/AyVJTqdTTqfTa+yKK66o8boiIyPr5G+0n6rrPdKf/ep6j/Rnv7reo7/64wqdC+PruZN08c6ffoo/H3ajP7vRn93oz27+6O9cz50C8kHJoaGhateunXJzc73Gc3NzlZKSEoiSAAAAai3OnQAAQFUCdvvV6NGjNXDgQLVv316dOnXSK6+8oi+++EIPP/xwoEoCAACotTh3AgAApwtYqHPPPffo22+/1ZQpU3Tw4EElJyfr3XffVZMmTS56LU6nU5MmTap0iXJdUtd7pD/71fUe6c9+db3Hut5fXVCbzp1OV9d//9Cf3ejPbvRnN/rzP4fh+aIAAAAAAADWCchn6gAAAAAAAODCEOoAAAAAAABYiFAHAAAAAADAQoQ6AAAAAAAAFiLUkTR79mwlJiaqXr16ateunT788MNAl3Re1q5dqz59+sjtdsvhcGjZsmVe+40xysrKktvtVlhYmFJTU7Vz587AFHsecnJydP311ysiIkKNGjXSr371K+3atctrju09zpkzR61bt1ZkZKQiIyPVqVMnvffee579tvd3upycHDkcDmVkZHjGbO4xKytLDofDa3O5XJ79Nvf2U19++aXuv/9+xcTEqH79+rr22mu1efNmz36b+2zatGmlNXQ4HBoxYoQku3uTpBMnTujJJ59UYmKiwsLC1KxZM02ZMkUnT570zLG9R/iHr+dKeXl5ateunerVq6dmzZrppZdeukiVnh9f+luzZk2Vf0/87//+70Ws+Nyd7fywKjatn6/92bZ+53L+WxVb1vB8+rNpDc92bl8VW9ZO8r0/m9auKlX97FKVi76G5hK3ePFiExISYl599VXz6aefmlGjRpnw8HCzf//+QJfms3fffddMnDjRvPXWW0aSWbp0qdf+Z5991kRERJi33nrLbN++3dxzzz0mPj7elJSUBKZgH/Xs2dPMmzfP7Nixw2zbts306tXLNG7c2JSWlnrm2N7j8uXLzTvvvGN27dpldu3aZZ544gkTEhJiduzYYYyxv7+f+uijj0zTpk1N69atzahRozzjNvc4adIkc80115iDBw96tqKiIs9+m3s75bvvvjNNmjQxgwYNMv/6179Mfn6+WbVqldm7d69njs19FhUVea1fbm6ukWRWr15tjLG7N2OMefrpp01MTIx5++23TX5+vvnLX/5iLr/8cjNjxgzPHNt7RM3z9Vzp888/N/Xr1zejRo0yn376qXn11VdNSEiI+etf/3qRKz83vva3evVqI8ns2rXL6++LEydOXOTKz83Zzg9PZ9v6+dqfbet3Lue/p7NpDc+nP5vW8Gzn9qezae2M8b0/m9budNX97HK6QKzhJR/q3HDDDebhhx/2GmvZsqWZMGFCgCqqGaf/o3by5EnjcrnMs88+6xn74YcfTFRUlHnppZcCUOGFKyoqMpJMXl6eMaZu9miMMQ0aNDB/+tOf6lR/hw8fNklJSSY3N9d06dLF8xej7T1OmjTJtGnTpsp9tvd2yvjx482NN95Y7f660ucpo0aNMs2bNzcnT56sE7316tXLDB482Gusb9++5v777zfG1L31Q83w9Vxp3LhxpmXLll5jw4YNMx07dvRbjRfC1/5O/VBy6NChi1BdzTqX0MO29fspX0IdG9fPmMrnv1WxeQ3PpT/b1/DUuX1VbF67U87Un61rV93PLlUJxBpe0rdflZeXa/PmzerRo4fXeI8ePbR+/foAVeUf+fn5Kiws9OrV6XSqS5cu1vZaXFwsSYqOjpZU93qsqKjQ4sWLdeTIEXXq1KlO9TdixAj16tVLt9xyi9d4Xehxz549crvdSkxMVP/+/fX5559Lqhu9SdLy5cvVvn173X333WrUqJHatm2rV1991bO/rvQp/fhvxMKFCzV48GA5HI460duNN96o999/X7t375Ykffzxx1q3bp1uu+02SXVr/VAzzudcacOGDZXm9+zZU5s2bdLx48f9Vuv5uJBzwbZt2yo+Pl7dunXT6tWr/VnmRWXT+l0IW9fv9PPfqti8hufS3ym2reHp5/ZVsXntzqW/U2xbu+p+dqlKINYw2C9HtcQ333yjiooKxcXFeY3HxcWpsLAwQFX5x6l+qup1//79gSjpghhjNHr0aN14441KTk6WVHd63L59uzp16qQffvhBl19+uZYuXapf/OIXnpNL2/tbvHixtmzZoo0bN1baZ/sadujQQa+99ppatGihr7/+Wk8//bRSUlK0c+dO63s75fPPP9ecOXM0evRoPfHEE/roo4/06KOPyul06oEHHqgzfUrSsmXL9P3332vQoEGS7P/9KUnjx49XcXGxWrZsqaCgIFVUVOiZZ57RvffeK6lu9IiadT7nSoWFhVXOP3HihL755hvFx8f7rV5fnU9/8fHxeuWVV9SuXTuVlZXp9ddfV7du3bRmzRrddNNNF6Nsv7Jp/c6HzetX1flvVWxdw3Ptz7Y1rO7cvio2rp0v/dm2dtKZf3apSiDW8JIOdU5xOBxer40xlcbqirrS6yOPPKJPPvlE69atq7TP9h6vuuoqbdu2Td9//73eeustpaenKy8vz7Pf5v4KCgo0atQorVy5UvXq1at2nq09pqWleX7dqlUrderUSc2bN9eCBQvUsWNHSfb2dsrJkyfVvn17ZWdnS/rxf1p27typOXPm6IEHHvDMs71PSZo7d67S0tLkdru9xm3u7c0339TChQu1aNEiXXPNNdq2bZsyMjLkdruVnp7umWdzj/APX39PVDW/qvHawpf+rrrqKl111VWe1506dVJBQYF+//vf19ofSnxl2/r5wub1O9P57+lsXMNz7c+2Nazu3L664MO2tfOlP9vW7lx/djndxV7DS/r2q9jYWAUFBVX6n5iioqJK6ZrtTj2Bpy70OnLkSC1fvlyrV6/WlVde6RmvKz2Ghobq5z//udq3b6+cnBy1adNGL7zwQp3ob/PmzSoqKlK7du0UHBys4OBg5eXl6Y9//KOCg4M9fdjc40+Fh4erVatW2rNnT51YP+nH/2E5/R/pq6++Wl988YWkuvPncP/+/Vq1apUeeughz1hd6O3xxx/XhAkT1L9/f7Vq1UoDBw7UY489ppycHEl1o0fUrPM5V3K5XFXODw4OVkxMjN9qPR81dS7YsWNH7dmzp6bLCwib1q+m2LB+1Z3/VsXGNfSlv6rU5jWs7ty+KjaunS/9VaU2r93ZfnapqKio9J5ArOElHeqEhoaqXbt2ys3N9RrPzc1VSkpKgKryj8TERLlcLq9ey8vLlZeXZ02vxhg98sgjWrJkiT744AMlJiZ67a8LPVbFGKOysrI60V+3bt20fft2bdu2zbO1b99e9913n7Zt26ZmzZpZ3+NPlZWV6bPPPlN8fHydWD9J6ty5c6VHje7evVtNmjSRVHf+HM6bN0+NGjVSr169PGN1obejR4/qssu8/+kPCgryPNK8LvSImnU+50qdOnWqNH/lypVq3769QkJC/Fbr+aipc8GtW7fWytsizodN61dTavP6ne38tyo2reH59FeV2ryGpzt1bl8Vm9auOmfqryq1ee3O9rNLUFBQpfcEZA399hHMljj1GMu5c+eaTz/91GRkZJjw8HCzb9++QJfms8OHD5utW7earVu3Gklm+vTpZuvWrZ5Hcj777LMmKirKLFmyxGzfvt3ce++9Vj2m9re//a2Jiooya9as8XoE3tGjRz1zbO8xMzPTrF271uTn55tPPvnEPPHEE+ayyy4zK1euNMbY319VTv8EeZt7HDNmjFmzZo35/PPPzT//+U/Tu3dvExER4fn7xObeTvnoo49McHCweeaZZ8yePXvMG2+8YerXr28WLlzomWN7nxUVFaZx48Zm/PjxlfbZ3lt6err52c9+5nmk+ZIlS0xsbKwZN26cZ47tPaLmne1cacKECWbgwIGe+ace5/rYY4+ZTz/91MydO7dWP5LX1/6ef/55s3TpUrN7926zY8cOM2HCBCPJvPXWW4Fq4YzOdn5o+/r52p9t63cu5782r+H59GfTGp7t3N7mtTPG9/5sWrvqnP6zS21Yw0s+1DHGmBdffNE0adLEhIaGmuuuu+6Mj9CrzU49Iu70LT093Rjz46NqJ02aZFwul3E6neamm24y27dvD2zRPqiqN0lm3rx5njm29zh48GDP78WGDRuabt26ef5SNMb+/qpy+l+MNvd4zz33mPj4eBMSEmLcbrfp27ev2blzp2e/zb391N///neTnJxsnE6nadmypXnllVe89tve54oVK4wks2vXrkr7bO+tpKTEjBo1yjRu3NjUq1fPNGvWzEycONGUlZV55tjeI/zjTOdK6enppkuXLl7z16xZY9q2bWtCQ0NN06ZNzZw5cy5yxb7xpb+pU6ea5s2bm3r16pkGDRqYG2+80bzzzjsBqPrcnO380Pb187U/29bvXM5/bV7D8+nPpjU827m9zWtnjO/92bR21Tn9Z5fasIYOY/7/p/YAAAAAAADAGpf0Z+oAAAAAAADYilAHAAAAAADAQoQ6AAAAAAAAFiLUAQAAAAAAsBChDgAAAAAAgIUIdQAAAAAAACxEqAMAAAAAAGAhQh0AAAAAAAALEeoAAAAAAABYiFAHAAAAAADAQoQ6AAAAAAAAFiLUAQAAAAAAsND/A0x+mjIXYCp5AAAAAElFTkSuQmCC",
      "text/plain": [
       "<Figure size 1400x500 with 2 Axes>"
      ]
     },
     "metadata": {},
     "output_type": "display_data"
    }
   ],
   "source": [
    "discretize(5, 'quantile')"
   ]
  },
  {
   "cell_type": "code",
   "execution_count": 4,
   "id": "9b91f85c",
   "metadata": {},
   "outputs": [],
   "source": [
    "# binarization\n",
    "df = pd.read_csv('train.csv', usecols = ['Age','Fare','SibSp','Parch','Survived'])\n"
   ]
  },
  {
   "cell_type": "code",
   "execution_count": 5,
   "id": "a28e3710",
   "metadata": {},
   "outputs": [
    {
     "data": {
      "text/html": [
       "<div>\n",
       "<style scoped>\n",
       "    .dataframe tbody tr th:only-of-type {\n",
       "        vertical-align: middle;\n",
       "    }\n",
       "\n",
       "    .dataframe tbody tr th {\n",
       "        vertical-align: top;\n",
       "    }\n",
       "\n",
       "    .dataframe thead th {\n",
       "        text-align: right;\n",
       "    }\n",
       "</style>\n",
       "<table border=\"1\" class=\"dataframe\">\n",
       "  <thead>\n",
       "    <tr style=\"text-align: right;\">\n",
       "      <th></th>\n",
       "      <th>Survived</th>\n",
       "      <th>Age</th>\n",
       "      <th>SibSp</th>\n",
       "      <th>Parch</th>\n",
       "      <th>Fare</th>\n",
       "    </tr>\n",
       "  </thead>\n",
       "  <tbody>\n",
       "    <tr>\n",
       "      <th>0</th>\n",
       "      <td>0</td>\n",
       "      <td>22.0</td>\n",
       "      <td>1</td>\n",
       "      <td>0</td>\n",
       "      <td>7.2500</td>\n",
       "    </tr>\n",
       "    <tr>\n",
       "      <th>1</th>\n",
       "      <td>1</td>\n",
       "      <td>38.0</td>\n",
       "      <td>1</td>\n",
       "      <td>0</td>\n",
       "      <td>71.2833</td>\n",
       "    </tr>\n",
       "    <tr>\n",
       "      <th>2</th>\n",
       "      <td>1</td>\n",
       "      <td>26.0</td>\n",
       "      <td>0</td>\n",
       "      <td>0</td>\n",
       "      <td>7.9250</td>\n",
       "    </tr>\n",
       "    <tr>\n",
       "      <th>3</th>\n",
       "      <td>1</td>\n",
       "      <td>35.0</td>\n",
       "      <td>1</td>\n",
       "      <td>0</td>\n",
       "      <td>53.1000</td>\n",
       "    </tr>\n",
       "    <tr>\n",
       "      <th>4</th>\n",
       "      <td>0</td>\n",
       "      <td>35.0</td>\n",
       "      <td>0</td>\n",
       "      <td>0</td>\n",
       "      <td>8.0500</td>\n",
       "    </tr>\n",
       "  </tbody>\n",
       "</table>\n",
       "</div>"
      ],
      "text/plain": [
       "   Survived   Age  SibSp  Parch     Fare\n",
       "0         0  22.0      1      0   7.2500\n",
       "1         1  38.0      1      0  71.2833\n",
       "2         1  26.0      0      0   7.9250\n",
       "3         1  35.0      1      0  53.1000\n",
       "4         0  35.0      0      0   8.0500"
      ]
     },
     "execution_count": 5,
     "metadata": {},
     "output_type": "execute_result"
    }
   ],
   "source": [
    "df.head()"
   ]
  },
  {
   "cell_type": "code",
   "execution_count": 6,
   "id": "de1f856b",
   "metadata": {},
   "outputs": [],
   "source": [
    "df['family'] = df['SibSp'] + df['Parch']"
   ]
  },
  {
   "cell_type": "code",
   "execution_count": 9,
   "id": "9ac511c7",
   "metadata": {},
   "outputs": [],
   "source": [
    "df.drop(columns=['Parch', 'SibSp'], inplace = True)"
   ]
  },
  {
   "cell_type": "code",
   "execution_count": 10,
   "id": "aebd9732",
   "metadata": {},
   "outputs": [
    {
     "data": {
      "text/plain": [
       "Survived      0\n",
       "Age         177\n",
       "Fare          0\n",
       "family        0\n",
       "dtype: int64"
      ]
     },
     "execution_count": 10,
     "metadata": {},
     "output_type": "execute_result"
    }
   ],
   "source": [
    "df.isnull().sum()"
   ]
  },
  {
   "cell_type": "code",
   "execution_count": 12,
   "id": "1d4b49e7",
   "metadata": {},
   "outputs": [],
   "source": [
    "df.dropna(inplace = True)"
   ]
  },
  {
   "cell_type": "code",
   "execution_count": 14,
   "id": "30d34156",
   "metadata": {},
   "outputs": [
    {
     "data": {
      "text/plain": [
       "Survived    0\n",
       "Age         0\n",
       "Fare        0\n",
       "family      0\n",
       "dtype: int64"
      ]
     },
     "execution_count": 14,
     "metadata": {},
     "output_type": "execute_result"
    }
   ],
   "source": [
    "df.isnull().sum()"
   ]
  },
  {
   "cell_type": "code",
   "execution_count": 16,
   "id": "f27c37f3",
   "metadata": {},
   "outputs": [
    {
     "data": {
      "text/html": [
       "<div>\n",
       "<style scoped>\n",
       "    .dataframe tbody tr th:only-of-type {\n",
       "        vertical-align: middle;\n",
       "    }\n",
       "\n",
       "    .dataframe tbody tr th {\n",
       "        vertical-align: top;\n",
       "    }\n",
       "\n",
       "    .dataframe thead th {\n",
       "        text-align: right;\n",
       "    }\n",
       "</style>\n",
       "<table border=\"1\" class=\"dataframe\">\n",
       "  <thead>\n",
       "    <tr style=\"text-align: right;\">\n",
       "      <th></th>\n",
       "      <th>Survived</th>\n",
       "      <th>Age</th>\n",
       "      <th>Fare</th>\n",
       "      <th>family</th>\n",
       "    </tr>\n",
       "  </thead>\n",
       "  <tbody>\n",
       "    <tr>\n",
       "      <th>0</th>\n",
       "      <td>0</td>\n",
       "      <td>22.0</td>\n",
       "      <td>7.2500</td>\n",
       "      <td>1</td>\n",
       "    </tr>\n",
       "    <tr>\n",
       "      <th>1</th>\n",
       "      <td>1</td>\n",
       "      <td>38.0</td>\n",
       "      <td>71.2833</td>\n",
       "      <td>1</td>\n",
       "    </tr>\n",
       "  </tbody>\n",
       "</table>\n",
       "</div>"
      ],
      "text/plain": [
       "   Survived   Age     Fare  family\n",
       "0         0  22.0   7.2500       1\n",
       "1         1  38.0  71.2833       1"
      ]
     },
     "execution_count": 16,
     "metadata": {},
     "output_type": "execute_result"
    }
   ],
   "source": [
    "df.head(2)"
   ]
  },
  {
   "cell_type": "code",
   "execution_count": 17,
   "id": "cbe5e661",
   "metadata": {},
   "outputs": [],
   "source": [
    "X = df.drop(columns=['Survived'])"
   ]
  },
  {
   "cell_type": "code",
   "execution_count": 18,
   "id": "840b2f68",
   "metadata": {},
   "outputs": [],
   "source": [
    "y = df['Survived']"
   ]
  },
  {
   "cell_type": "code",
   "execution_count": 20,
   "id": "7ba48365",
   "metadata": {},
   "outputs": [],
   "source": [
    "X_train, X_test, y_train, y_test = train_test_split(X, y, test_size = 0.2, random_state=42)"
   ]
  },
  {
   "cell_type": "code",
   "execution_count": 21,
   "id": "0e6a5003",
   "metadata": {},
   "outputs": [
    {
     "data": {
      "text/plain": [
       "(143, 3)"
      ]
     },
     "execution_count": 21,
     "metadata": {},
     "output_type": "execute_result"
    }
   ],
   "source": [
    "X_test.shape"
   ]
  },
  {
   "cell_type": "code",
   "execution_count": 22,
   "id": "f33e1b73",
   "metadata": {},
   "outputs": [],
   "source": [
    "clf = DecisionTreeClassifier()\n",
    "clf.fit(X_train, y_train)\n",
    "y_pred = clf.predict(X_test)"
   ]
  },
  {
   "cell_type": "code",
   "execution_count": 23,
   "id": "d1a24c67",
   "metadata": {},
   "outputs": [
    {
     "data": {
      "text/plain": [
       "0.6293706293706294"
      ]
     },
     "execution_count": 23,
     "metadata": {},
     "output_type": "execute_result"
    }
   ],
   "source": [
    "accuracy_score(y_test, y_pred)"
   ]
  },
  {
   "cell_type": "code",
   "execution_count": 26,
   "id": "dae4aa39",
   "metadata": {},
   "outputs": [
    {
     "data": {
      "text/plain": [
       "0.6499021909233177"
      ]
     },
     "execution_count": 26,
     "metadata": {},
     "output_type": "execute_result"
    }
   ],
   "source": [
    "cross_val_score(clf, X, y, scoring = 'accuracy', cv = 10).mean()"
   ]
  },
  {
   "cell_type": "code",
   "execution_count": 32,
   "id": "1c38546e",
   "metadata": {},
   "outputs": [],
   "source": [
    "# after binarization \n",
    "trf = ColumnTransformer([\n",
    "    ('first', Binarizer(copy=False, threshold=0), ['family'])\n",
    "], remainder = 'passthrough')"
   ]
  },
  {
   "cell_type": "code",
   "execution_count": 33,
   "id": "fe17a3da",
   "metadata": {},
   "outputs": [],
   "source": [
    "X_train_trf = trf.fit_transform(X_train)\n",
    "X_test_trf = trf.transform(X_test)"
   ]
  },
  {
   "cell_type": "code",
   "execution_count": 35,
   "id": "2569fedb",
   "metadata": {},
   "outputs": [],
   "source": [
    "clf = DecisionTreeClassifier()\n",
    "clf.fit(X_train_trf, y_train)\n",
    "y_pred = clf.predict(X_test_trf)\n"
   ]
  },
  {
   "cell_type": "code",
   "execution_count": 36,
   "id": "90547042",
   "metadata": {},
   "outputs": [
    {
     "data": {
      "text/plain": [
       "0.6223776223776224"
      ]
     },
     "execution_count": 36,
     "metadata": {},
     "output_type": "execute_result"
    }
   ],
   "source": [
    "accuracy_score(y_test, y_pred)"
   ]
  },
  {
   "cell_type": "code",
   "execution_count": 43,
   "id": "a11714ce",
   "metadata": {},
   "outputs": [
    {
     "data": {
      "text/plain": [
       "0.6527582159624413"
      ]
     },
     "execution_count": 43,
     "metadata": {},
     "output_type": "execute_result"
    }
   ],
   "source": [
    "X_trf = trf.transform(X)\n",
    "cross_val_score(clf, X, y, scoring='accuracy', cv = 10).mean()"
   ]
  },
  {
   "cell_type": "code",
   "execution_count": 1,
   "id": "6cdc74e5",
   "metadata": {},
   "outputs": [
    {
     "ename": "SyntaxError",
     "evalue": "invalid syntax (2830201818.py, line 1)",
     "output_type": "error",
     "traceback": [
      "\u001b[1;36m  Cell \u001b[1;32mIn[1], line 1\u001b[1;36m\u001b[0m\n\u001b[1;33m    git init\u001b[0m\n\u001b[1;37m        ^\u001b[0m\n\u001b[1;31mSyntaxError\u001b[0m\u001b[1;31m:\u001b[0m invalid syntax\n"
     ]
    }
   ],
   "source": []
  },
  {
   "cell_type": "code",
   "execution_count": null,
   "id": "7828d472",
   "metadata": {},
   "outputs": [],
   "source": []
  }
 ],
 "metadata": {
  "kernelspec": {
   "display_name": "Python 3 (ipykernel)",
   "language": "python",
   "name": "python3"
  },
  "language_info": {
   "codemirror_mode": {
    "name": "ipython",
    "version": 3
   },
   "file_extension": ".py",
   "mimetype": "text/x-python",
   "name": "python",
   "nbconvert_exporter": "python",
   "pygments_lexer": "ipython3",
   "version": "3.11.3"
  }
 },
 "nbformat": 4,
 "nbformat_minor": 5
}
#Changes made to file
